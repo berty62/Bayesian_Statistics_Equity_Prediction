{
 "cells": [
  {
   "cell_type": "code",
   "execution_count": 4,
   "metadata": {},
   "outputs": [
    {
     "name": "stdout",
     "output_type": "stream",
     "text": [
      "Collecting package metadata (current_repodata.json): ...working... done\n",
      "Solving environment: ...working... done\n",
      "\n",
      "# All requested packages already installed.\n",
      "\n",
      "\n",
      "C:\\Users\\Utilisateur\\Desktop\\ENSAE\\Stat Bayésienne>SET DISTUTILS_USE_SDK=1 \n",
      "\n",
      "C:\\Users\\Utilisateur\\Desktop\\ENSAE\\Stat Bayésienne>SET MSSdk=1 \n",
      "\n",
      "C:\\Users\\Utilisateur\\Desktop\\ENSAE\\Stat Bayésienne>SET \"VS_VERSION=15.0\" \n",
      "\n",
      "C:\\Users\\Utilisateur\\Desktop\\ENSAE\\Stat Bayésienne>SET \"VS_MAJOR=15\" \n",
      "\n",
      "C:\\Users\\Utilisateur\\Desktop\\ENSAE\\Stat Bayésienne>SET \"VS_YEAR=2017\" \n",
      "\n",
      "C:\\Users\\Utilisateur\\Desktop\\ENSAE\\Stat Bayésienne>set \"MSYS2_ARG_CONV_EXCL=/AI;/AL;/OUT;/out\" \n",
      "\n",
      "C:\\Users\\Utilisateur\\Desktop\\ENSAE\\Stat Bayésienne>set \"MSYS2_ENV_CONV_EXCL=CL\" \n",
      "\n",
      "C:\\Users\\Utilisateur\\Desktop\\ENSAE\\Stat Bayésienne>set \"PY_VCRUNTIME_REDIST=\\bin\\vcruntime140.dll\" \n",
      "\n",
      "C:\\Users\\Utilisateur\\Desktop\\ENSAE\\Stat Bayésienne>set \"CXX=cl.exe\" \n",
      "\n",
      "C:\\Users\\Utilisateur\\Desktop\\ENSAE\\Stat Bayésienne>set \"CC=cl.exe\" \n",
      "\n",
      "C:\\Users\\Utilisateur\\Desktop\\ENSAE\\Stat Bayésienne>set \"VSINSTALLDIR=\" \n",
      "\n",
      "C:\\Users\\Utilisateur\\Desktop\\ENSAE\\Stat Bayésienne>for /F \"usebackq tokens=*\" %i in (`vswhere.exe -nologo -products * -version [15.0,16.0) -property installationPath`) do (set \"VSINSTALLDIR=%i\\\" ) \n",
      "\n",
      "C:\\Users\\Utilisateur\\Desktop\\ENSAE\\Stat Bayésienne>if not exist \"\" (for /F \"usebackq tokens=*\" %i in (`vswhere.exe -nologo -products * -requires Microsoft.VisualStudio.Component.VC.v141.x86.x64 -property installationPath`) do (set \"VSINSTALLDIR=%i\\\" ) ) \n",
      "\n",
      "C:\\Users\\Utilisateur\\Desktop\\ENSAE\\Stat Bayésienne>if not exist \"\" (set \"VSINSTALLDIR=C:\\Program Files (x86)\\Microsoft Visual Studio\\2017\\Professional\\\" ) \n",
      "\n",
      "C:\\Users\\Utilisateur\\Desktop\\ENSAE\\Stat Bayésienne>if not exist \"C:\\Program Files (x86)\\Microsoft Visual Studio\\2017\\Professional\\\" (set \"VSINSTALLDIR=C:\\Program Files (x86)\\Microsoft Visual Studio\\2017\\Community\\\" ) \n",
      "\n",
      "C:\\Users\\Utilisateur\\Desktop\\ENSAE\\Stat Bayésienne>if not exist \"C:\\Program Files (x86)\\Microsoft Visual Studio\\2017\\Community\\\" (set \"VSINSTALLDIR=C:\\Program Files (x86)\\Microsoft Visual Studio\\2017\\BuildTools\\\" ) \n",
      "\n",
      "C:\\Users\\Utilisateur\\Desktop\\ENSAE\\Stat Bayésienne>if not exist \"C:\\Program Files (x86)\\Microsoft Visual Studio\\2017\\BuildTools\\\" (set \"VSINSTALLDIR=C:\\Program Files (x86)\\Microsoft Visual Studio\\2017\\Enterprise\\\" ) \n",
      "\n",
      "C:\\Users\\Utilisateur\\Desktop\\ENSAE\\Stat Bayésienne>IF NOT \"\" == \"\" (\n",
      "set \"INCLUDE=;\"  \n",
      " set \"LIB=;\"  \n",
      " set \"CMAKE_PREFIX_PATH=;\" \n",
      ") \n",
      "\n",
      "C:\\Users\\Utilisateur\\Desktop\\ENSAE\\Stat Bayésienne>call :GetWin10SdkDir \n",
      "\n",
      "C:\\Users\\Utilisateur\\Desktop\\ENSAE\\Stat Bayésienne>call :GetWin10SdkDirHelper HKLM\\SOFTWARE\\Wow6432Node  1>nul 2>&1 \n",
      "\n",
      "C:\\Users\\Utilisateur\\Desktop\\ENSAE\\Stat Bayésienne>if errorlevel 1 call :GetWin10SdkDirHelper HKCU\\SOFTWARE\\Wow6432Node  1>nul 2>&1 \n",
      "\n",
      "C:\\Users\\Utilisateur\\Desktop\\ENSAE\\Stat Bayésienne>if errorlevel 1 call :GetWin10SdkDirHelper HKLM\\SOFTWARE  1>nul 2>&1 \n",
      "\n",
      "C:\\Users\\Utilisateur\\Desktop\\ENSAE\\Stat Bayésienne>if errorlevel 1 call :GetWin10SdkDirHelper HKCU\\SOFTWARE  1>nul 2>&1 \n",
      "\n",
      "C:\\Users\\Utilisateur\\Desktop\\ENSAE\\Stat Bayésienne>if errorlevel 1 exit /B 1 \n",
      "\n",
      "C:\\Users\\Utilisateur\\Desktop\\ENSAE\\Stat Bayésienne>exit /B 0 \n",
      "\n",
      "C:\\Users\\Utilisateur\\Desktop\\ENSAE\\Stat Bayésienne>for /F %i in ('dir /ON /B \"\\include\\10.*\"') DO (SET WindowsSDKVer=%~i ) \n",
      "\n",
      "C:\\Users\\Utilisateur\\Desktop\\ENSAE\\Stat Bayésienne>if errorlevel 1 (echo \"Didn't find any windows 10 SDK. I'm not sure if things will work, but let's try...\" )  else (echo Windows SDK version found as: \"\" ) \n",
      "Windows SDK version found as: \"\"\n",
      "\n",
      "C:\\Users\\Utilisateur\\Desktop\\ENSAE\\Stat Bayésienne>IF \"win-64\" == \"win-64\" (\n",
      "set \"CMAKE_GEN=Visual Studio 15 2017 Win64\"  \n",
      " set \"BITS=64\" \n",
      ")  else (\n",
      "set \"CMAKE_GEN=Visual Studio 15 2017\"  \n",
      " set \"BITS=32\" \n",
      ") \n",
      "\n",
      "C:\\Users\\Utilisateur\\Desktop\\ENSAE\\Stat Bayésienne>pushd C:\\Program Files (x86)\\Microsoft Visual Studio\\2017\\Enterprise\\ \n",
      "\n",
      "C:\\Users\\Utilisateur\\Desktop\\ENSAE\\Stat Bayésienne>CALL \"VC\\Auxiliary\\Build\\vcvars64.bat\" -vcvars_ver=14.16  \n",
      "\n",
      "C:\\Users\\Utilisateur\\Desktop\\ENSAE\\Stat Bayésienne>popd\n",
      "\n",
      "C:\\Users\\Utilisateur\\Desktop\\ENSAE\\Stat Bayésienne>IF \"Visual Studio 15 2017 Win64\" == \"\" SET \"CMAKE_GENERATOR=Visual Studio 15 2017 Win64\" \n",
      "\n",
      "C:\\Users\\Utilisateur\\Desktop\\ENSAE\\Stat Bayésienne>call :GetWin10SdkDirHelper HKLM\\SOFTWARE\\Wow6432Node  1>nul 2>&1 \n",
      "\n",
      "C:\\Users\\Utilisateur\\Desktop\\ENSAE\\Stat Bayésienne>if errorlevel 1 call :GetWin10SdkDirHelper HKCU\\SOFTWARE\\Wow6432Node  1>nul 2>&1 \n",
      "\n",
      "C:\\Users\\Utilisateur\\Desktop\\ENSAE\\Stat Bayésienne>if errorlevel 1 call :GetWin10SdkDirHelper HKLM\\SOFTWARE  1>nul 2>&1 \n",
      "\n",
      "C:\\Users\\Utilisateur\\Desktop\\ENSAE\\Stat Bayésienne>if errorlevel 1 call :GetWin10SdkDirHelper HKCU\\SOFTWARE  1>nul 2>&1 \n",
      "\n",
      "C:\\Users\\Utilisateur\\Desktop\\ENSAE\\Stat Bayésienne>if errorlevel 1 exit /B 1 \n",
      "\n",
      "C:\\Users\\Utilisateur\\Desktop\\ENSAE\\Stat Bayésienne>exit /B 0 \n",
      "\n",
      "Note: you may need to restart the kernel to use updated packages.\n"
     ]
    },
    {
     "name": "stderr",
     "output_type": "stream",
     "text": [
      "Le fichier spécifié est introuvable.\n",
      "Le chemin d’accès spécifié est introuvable.\n",
      "Le chemin d’accès spécifié est introuvable.\n"
     ]
    }
   ],
   "source": [
    "conda install m2w64-toolchain"
   ]
  },
  {
   "cell_type": "code",
   "execution_count": 2,
   "metadata": {},
   "outputs": [
    {
     "name": "stdout",
     "output_type": "stream",
     "text": [
      "Collecting package metadata (current_repodata.json): ...working... done\n",
      "Solving environment: ...working... done\n",
      "\n",
      "## Package Plan ##\n",
      "\n",
      "  environment location: C:\\Users\\Utilisateur\\anaconda3\n",
      "\n",
      "  added / updated specs:\n",
      "    - libpython\n",
      "\n",
      "\n",
      "The following packages will be downloaded:\n",
      "\n",
      "    package                    |            build\n",
      "    ---------------------------|-----------------\n",
      "    libpython-2.1              |           py38_0          49 KB\n",
      "    theano-1.0.4               |           py38_0         3.2 MB\n",
      "    ------------------------------------------------------------\n",
      "                                           Total:         3.2 MB\n",
      "\n",
      "The following NEW packages will be INSTALLED:\n",
      "\n",
      "  libpython          pkgs/main/win-64::libpython-2.1-py38_0\n",
      "  theano             pkgs/main/win-64::theano-1.0.4-py38_0\n",
      "\n",
      "\n",
      "\n",
      "Downloading and Extracting Packages\n",
      "\n",
      "libpython-2.1        | 49 KB     |            |   0% \n",
      "libpython-2.1        | 49 KB     | ########## | 100% \n",
      "libpython-2.1        | 49 KB     | ########## | 100% \n",
      "\n",
      "theano-1.0.4         | 3.2 MB    |            |   0% \n",
      "theano-1.0.4         | 3.2 MB    | ###1       |  31% \n",
      "theano-1.0.4         | 3.2 MB    | ########9  |  90% \n",
      "theano-1.0.4         | 3.2 MB    | ########## | 100% \n",
      "Preparing transaction: ...working... done\n",
      "Verifying transaction: ...working... done\n",
      "Executing transaction: ...working... done\n",
      "\n",
      "Note: you may need to restart the kernel to use updated packages.\n"
     ]
    },
    {
     "name": "stderr",
     "output_type": "stream",
     "text": [
      "\n",
      "The environment is inconsistent, please check the package plan carefully\n",
      "The following packages are causing the inconsistency:\n",
      "\n",
      "  - defaults/noarch::pymc3==3.8=py_0\n",
      "Le fichier spécifié est introuvable.\n",
      "Le chemin d’accès spécifié est introuvable.\n",
      "Le chemin d’accès spécifié est introuvable.\n"
     ]
    },
    {
     "name": "stdout",
     "output_type": "stream",
     "text": [
      "\n",
      "C:\\Users\\Utilisateur\\Desktop\\ENSAE\\Stat Bayésienne>SET DISTUTILS_USE_SDK=1 \n",
      "\n",
      "C:\\Users\\Utilisateur\\Desktop\\ENSAE\\Stat Bayésienne>SET MSSdk=1 \n",
      "\n",
      "C:\\Users\\Utilisateur\\Desktop\\ENSAE\\Stat Bayésienne>SET \"VS_VERSION=15.0\" \n",
      "\n",
      "C:\\Users\\Utilisateur\\Desktop\\ENSAE\\Stat Bayésienne>SET \"VS_MAJOR=15\" \n",
      "\n",
      "C:\\Users\\Utilisateur\\Desktop\\ENSAE\\Stat Bayésienne>SET \"VS_YEAR=2017\" \n",
      "\n",
      "C:\\Users\\Utilisateur\\Desktop\\ENSAE\\Stat Bayésienne>set \"MSYS2_ARG_CONV_EXCL=/AI;/AL;/OUT;/out\" \n",
      "\n",
      "C:\\Users\\Utilisateur\\Desktop\\ENSAE\\Stat Bayésienne>set \"MSYS2_ENV_CONV_EXCL=CL\" \n",
      "\n",
      "C:\\Users\\Utilisateur\\Desktop\\ENSAE\\Stat Bayésienne>set \"PY_VCRUNTIME_REDIST=\\bin\\vcruntime140.dll\" \n",
      "\n",
      "C:\\Users\\Utilisateur\\Desktop\\ENSAE\\Stat Bayésienne>set \"CXX=cl.exe\" \n",
      "\n",
      "C:\\Users\\Utilisateur\\Desktop\\ENSAE\\Stat Bayésienne>set \"CC=cl.exe\" \n",
      "\n",
      "C:\\Users\\Utilisateur\\Desktop\\ENSAE\\Stat Bayésienne>set \"VSINSTALLDIR=\" \n",
      "\n",
      "C:\\Users\\Utilisateur\\Desktop\\ENSAE\\Stat Bayésienne>for /F \"usebackq tokens=*\" %i in (`vswhere.exe -nologo -products * -version [15.0,16.0) -property installationPath`) do (set \"VSINSTALLDIR=%i\\\" ) \n",
      "\n",
      "C:\\Users\\Utilisateur\\Desktop\\ENSAE\\Stat Bayésienne>if not exist \"\" (for /F \"usebackq tokens=*\" %i in (`vswhere.exe -nologo -products * -requires Microsoft.VisualStudio.Component.VC.v141.x86.x64 -property installationPath`) do (set \"VSINSTALLDIR=%i\\\" ) ) \n",
      "\n",
      "C:\\Users\\Utilisateur\\Desktop\\ENSAE\\Stat Bayésienne>if not exist \"\" (set \"VSINSTALLDIR=C:\\Program Files (x86)\\Microsoft Visual Studio\\2017\\Professional\\\" ) \n",
      "\n",
      "C:\\Users\\Utilisateur\\Desktop\\ENSAE\\Stat Bayésienne>if not exist \"C:\\Program Files (x86)\\Microsoft Visual Studio\\2017\\Professional\\\" (set \"VSINSTALLDIR=C:\\Program Files (x86)\\Microsoft Visual Studio\\2017\\Community\\\" ) \n",
      "\n",
      "C:\\Users\\Utilisateur\\Desktop\\ENSAE\\Stat Bayésienne>if not exist \"C:\\Program Files (x86)\\Microsoft Visual Studio\\2017\\Community\\\" (set \"VSINSTALLDIR=C:\\Program Files (x86)\\Microsoft Visual Studio\\2017\\BuildTools\\\" ) \n",
      "\n",
      "C:\\Users\\Utilisateur\\Desktop\\ENSAE\\Stat Bayésienne>if not exist \"C:\\Program Files (x86)\\Microsoft Visual Studio\\2017\\BuildTools\\\" (set \"VSINSTALLDIR=C:\\Program Files (x86)\\Microsoft Visual Studio\\2017\\Enterprise\\\" ) \n",
      "\n",
      "C:\\Users\\Utilisateur\\Desktop\\ENSAE\\Stat Bayésienne>IF NOT \"\" == \"\" (\n",
      "set \"INCLUDE=;\"  \n",
      " set \"LIB=;\"  \n",
      " set \"CMAKE_PREFIX_PATH=;\" \n",
      ") \n",
      "\n",
      "C:\\Users\\Utilisateur\\Desktop\\ENSAE\\Stat Bayésienne>call :GetWin10SdkDir \n",
      "\n",
      "C:\\Users\\Utilisateur\\Desktop\\ENSAE\\Stat Bayésienne>call :GetWin10SdkDirHelper HKLM\\SOFTWARE\\Wow6432Node  1>nul 2>&1 \n",
      "\n",
      "C:\\Users\\Utilisateur\\Desktop\\ENSAE\\Stat Bayésienne>if errorlevel 1 call :GetWin10SdkDirHelper HKCU\\SOFTWARE\\Wow6432Node  1>nul 2>&1 \n",
      "\n",
      "C:\\Users\\Utilisateur\\Desktop\\ENSAE\\Stat Bayésienne>if errorlevel 1 call :GetWin10SdkDirHelper HKLM\\SOFTWARE  1>nul 2>&1 \n",
      "\n",
      "C:\\Users\\Utilisateur\\Desktop\\ENSAE\\Stat Bayésienne>if errorlevel 1 call :GetWin10SdkDirHelper HKCU\\SOFTWARE  1>nul 2>&1 \n",
      "\n",
      "C:\\Users\\Utilisateur\\Desktop\\ENSAE\\Stat Bayésienne>if errorlevel 1 exit /B 1 \n",
      "\n",
      "C:\\Users\\Utilisateur\\Desktop\\ENSAE\\Stat Bayésienne>exit /B 0 \n",
      "\n",
      "C:\\Users\\Utilisateur\\Desktop\\ENSAE\\Stat Bayésienne>for /F %i in ('dir /ON /B \"\\include\\10.*\"') DO (SET WindowsSDKVer=%~i ) \n",
      "\n",
      "C:\\Users\\Utilisateur\\Desktop\\ENSAE\\Stat Bayésienne>if errorlevel 1 (echo \"Didn't find any windows 10 SDK. I'm not sure if things will work, but let's try...\" )  else (echo Windows SDK version found as: \"\" ) \n",
      "Windows SDK version found as: \"\"\n",
      "\n",
      "C:\\Users\\Utilisateur\\Desktop\\ENSAE\\Stat Bayésienne>IF \"win-64\" == \"win-64\" (\n",
      "set \"CMAKE_GEN=Visual Studio 15 2017 Win64\"  \n",
      " set \"BITS=64\" "
     ]
    }
   ],
   "source": [
    "conda install libpython"
   ]
  },
  {
   "cell_type": "code",
   "execution_count": 3,
   "metadata": {},
   "outputs": [
    {
     "name": "stdout",
     "output_type": "stream",
     "text": [
      "\n",
      ")  else (\n",
      "set \"CMAKE_GEN=Visual Studio 15 2017\"  \n",
      " set \"BITS=32\" \n",
      ") \n",
      "\n",
      "C:\\Users\\Utilisateur\\Desktop\\ENSAE\\Stat Bayésienne>pushd C:\\Program Files (x86)\\Microsoft Visual Studio\\2017\\Enterprise\\ \n",
      "\n",
      "C:\\Users\\Utilisateur\\Desktop\\ENSAE\\Stat Bayésienne>CALL \"VC\\Auxiliary\\Build\\vcvars64.bat\" -vcvars_ver=14.16  \n",
      "\n",
      "C:\\Users\\Utilisateur\\Desktop\\ENSAE\\Stat Bayésienne>popd\n",
      "\n",
      "C:\\Users\\Utilisateur\\Desktop\\ENSAE\\Stat Bayésienne>IF \"Visual Studio 15 2017 Win64\" == \"\" SET \"CMAKE_GENERATOR=Visual Studio 15 2017 Win64\" \n",
      "\n",
      "C:\\Users\\Utilisateur\\Desktop\\ENSAE\\Stat Bayésienne>call :GetWin10SdkDirHelper HKLM\\SOFTWARE\\Wow6432Node  1>nul 2>&1 \n",
      "\n",
      "C:\\Users\\Utilisateur\\Desktop\\ENSAE\\Stat Bayésienne>if errorlevel 1 call :GetWin10SdkDirHelper HKCU\\SOFTWARE\\Wow6432Node  1>nul 2>&1 \n",
      "\n",
      "C:\\Users\\Utilisateur\\Desktop\\ENSAE\\Stat Bayésienne>if errorlevel 1 call :GetWin10SdkDirHelper HKLM\\SOFTWARE  1>nul 2>&1 \n",
      "\n",
      "C:\\Users\\Utilisateur\\Desktop\\ENSAE\\Stat Bayésienne>if errorlevel 1 call :GetWin10SdkDirHelper HKCU\\SOFTWARE  1>nul 2>&1 \n",
      "\n",
      "C:\\Users\\Utilisateur\\Desktop\\ENSAE\\Stat Bayésienne>if errorlevel 1 exit /B 1 \n",
      "\n",
      "C:\\Users\\Utilisateur\\Desktop\\ENSAE\\Stat Bayésienne>exit /B 0 \n",
      "Collecting package metadata (current_repodata.json): ...working... done\n",
      "Solving environment: ...working... done\n",
      "\n",
      "# All requested packages already installed.\n",
      "\n",
      "\n",
      "C:\\Users\\Utilisateur\\Desktop\\ENSAE\\Stat Bayésienne>SET DISTUTILS_USE_SDK=1 \n",
      "\n",
      "C:\\Users\\Utilisateur\\Desktop\\ENSAE\\Stat Bayésienne>SET MSSdk=1 \n",
      "\n",
      "C:\\Users\\Utilisateur\\Desktop\\ENSAE\\Stat Bayésienne>SET \"VS_VERSION=15.0\" \n",
      "\n",
      "C:\\Users\\Utilisateur\\Desktop\\ENSAE\\Stat Bayésienne>SET \"VS_MAJOR=15\" \n",
      "\n",
      "C:\\Users\\Utilisateur\\Desktop\\ENSAE\\Stat Bayésienne>SET \"VS_YEAR=2017\" \n",
      "\n",
      "C:\\Users\\Utilisateur\\Desktop\\ENSAE\\Stat Bayésienne>set \"MSYS2_ARG_CONV_EXCL=/AI;/AL;/OUT;/out\" \n",
      "\n",
      "C:\\Users\\Utilisateur\\Desktop\\ENSAE\\Stat Bayésienne>set \"MSYS2_ENV_CONV_EXCL=CL\" \n",
      "\n",
      "C:\\Users\\Utilisateur\\Desktop\\ENSAE\\Stat Bayésienne>set \"PY_VCRUNTIME_REDIST=\\bin\\vcruntime140.dll\" \n",
      "\n",
      "C:\\Users\\Utilisateur\\Desktop\\ENSAE\\Stat Bayésienne>set \"CXX=cl.exe\" \n",
      "\n",
      "C:\\Users\\Utilisateur\\Desktop\\ENSAE\\Stat Bayésienne>set \"CC=cl.exe\" \n",
      "\n",
      "C:\\Users\\Utilisateur\\Desktop\\ENSAE\\Stat Bayésienne>set \"VSINSTALLDIR=\" \n",
      "\n",
      "C:\\Users\\Utilisateur\\Desktop\\ENSAE\\Stat Bayésienne>for /F \"usebackq tokens=*\" %i in (`vswhere.exe -nologo -products * -version [15.0,16.0) -property installationPath`) do (set \"VSINSTALLDIR=%i\\\" ) \n",
      "\n",
      "C:\\Users\\Utilisateur\\Desktop\\ENSAE\\Stat Bayésienne>if not exist \"\" (for /F \"usebackq tokens=*\" %i in (`vswhere.exe -nologo -products * -requires Microsoft.VisualStudio.Component.VC.v141.x86.x64 -property installationPath`) do (set \"VSINSTALLDIR=%i\\\" ) ) \n",
      "\n",
      "C:\\Users\\Utilisateur\\Desktop\\ENSAE\\Stat Bayésienne>if not exist \"\" (set \"VSINSTALLDIR=C:\\Program Files (x86)\\Microsoft Visual Studio\\2017\\Professional\\\" ) \n",
      "\n",
      "Note: you may need to restart the kernel to use updated packages.\n",
      "C:\\Users\\Utilisateur\\Desktop\\ENSAE\\Stat Bayésienne>if not exist \"C:\\Program Files (x86)\\Microsoft Visual Studio\\2017\\Professional\\\" (set \"VSINSTALLDIR=C:\\Program Files (x86)\\Microsoft Visual Studio\\2017\\Community\\\" ) \n",
      "\n"
     ]
    },
    {
     "name": "stderr",
     "output_type": "stream",
     "text": [
      "Le fichier spécifié est introuvable.\n",
      "Le chemin d’accès spécifié est introuvable.\n",
      "Le chemin d’accès spécifié est introuvable.\n"
     ]
    },
    {
     "name": "stdout",
     "output_type": "stream",
     "text": [
      "\n",
      "C:\\Users\\Utilisateur\\Desktop\\ENSAE\\Stat Bayésienne>if not exist \"C:\\Program Files (x86)\\Microsoft Visual Studio\\2017\\Community\\\" (set \"VSINSTALLDIR=C:\\Program Files (x86)\\Microsoft Visual Studio\\2017\\BuildTools\\\" ) \n",
      "\n",
      "C:\\Users\\Utilisateur\\Desktop\\ENSAE\\Stat Bayésienne>if not exist \"C:\\Program Files (x86)\\Microsoft Visual Studio\\2017\\BuildTools\\\" (set \"VSINSTALLDIR=C:\\Program Files (x86)\\Microsoft Visual Studio\\2017\\Enterprise\\\" ) \n",
      "\n",
      "C:\\Users\\Utilisateur\\Desktop\\ENSAE\\Stat Bayésienne>IF NOT \"\" == \"\" (\n",
      "set \"INCLUDE=;\"  \n",
      " set \"LIB=;\"  \n",
      " set \"CMAKE_PREFIX_PATH=;\" \n",
      ") \n",
      "\n",
      "C:\\Users\\Utilisateur\\Desktop\\ENSAE\\Stat Bayésienne>call :GetWin10SdkDir \n",
      "\n",
      "C:\\Users\\Utilisateur\\Desktop\\ENSAE\\Stat Bayésienne>call :GetWin10SdkDirHelper HKLM\\SOFTWARE\\Wow6432Node  1>nul 2>&1 \n",
      "\n",
      "C:\\Users\\Utilisateur\\Desktop\\ENSAE\\Stat Bayésienne>if errorlevel 1 call :GetWin10SdkDirHelper HKCU\\SOFTWARE\\Wow6432Node  1>nul 2>&1 \n",
      "\n",
      "C:\\Users\\Utilisateur\\Desktop\\ENSAE\\Stat Bayésienne>if errorlevel 1 call :GetWin10SdkDirHelper HKLM\\SOFTWARE  1>nul 2>&1 \n",
      "\n",
      "C:\\Users\\Utilisateur\\Desktop\\ENSAE\\Stat Bayésienne>if errorlevel 1 call :GetWin10SdkDirHelper HKCU\\SOFTWARE  1>nul 2>&1 \n",
      "\n",
      "C:\\Users\\Utilisateur\\Desktop\\ENSAE\\Stat Bayésienne>if errorlevel 1 exit /B 1 \n",
      "\n",
      "C:\\Users\\Utilisateur\\Desktop\\ENSAE\\Stat Bayésienne>exit /B 0 \n",
      "\n",
      "C:\\Users\\Utilisateur\\Desktop\\ENSAE\\Stat Bayésienne>for /F %i in ('dir /ON /B \"\\include\\10.*\"') DO (SET WindowsSDKVer=%~i ) \n",
      "\n",
      "C:\\Users\\Utilisateur\\Desktop\\ENSAE\\Stat Bayésienne>if errorlevel 1 (echo \"Didn't find any windows 10 SDK. I'm not sure if things will work, but let's try...\" )  else (echo Windows SDK version found as: \"\" ) \n",
      "Windows SDK version found as: \"\"\n",
      "\n",
      "C:\\Users\\Utilisateur\\Desktop\\ENSAE\\Stat Bayésienne>IF \"win-64\" == \"win-64\" (\n",
      "set \"CMAKE_GEN=Visual Studio 15 2017 Win64\"  \n",
      " set \"BITS=64\" \n",
      ")  else (\n",
      "set \"CMAKE_GEN=Visual Studio 15 2017\"  \n",
      " set \"BITS=32\" \n",
      ") \n",
      "\n",
      "C:\\Users\\Utilisateur\\Desktop\\ENSAE\\Stat Bayésienne>pushd C:\\Program Files (x86)\\Microsoft Visual Studio\\2017\\Enterprise\\ \n",
      "\n",
      "C:\\Users\\Utilisateur\\Desktop\\ENSAE\\Stat Bayésienne>CALL \"VC\\Auxiliary\\Build\\vcvars64.bat\" -vcvars_ver=14.16  \n",
      "\n",
      "C:\\Users\\Utilisateur\\Desktop\\ENSAE\\Stat Bayésienne>popd\n",
      "\n",
      "C:\\Users\\Utilisateur\\Desktop\\ENSAE\\Stat Bayésienne>IF \"Visual Studio 15 2017 Win64\" == \"\" SET \"CMAKE_GENERATOR=Visual Studio 15 2017 Win64\" \n",
      "\n",
      "C:\\Users\\Utilisateur\\Desktop\\ENSAE\\Stat Bayésienne>call :GetWin10SdkDirHelper HKLM\\SOFTWARE\\Wow6432Node  1>nul 2>&1 \n",
      "\n",
      "C:\\Users\\Utilisateur\\Desktop\\ENSAE\\Stat Bayésienne>if errorlevel 1 call :GetWin10SdkDirHelper HKCU\\SOFTWARE\\Wow6432Node  1>nul 2>&1 \n",
      "\n",
      "C:\\Users\\Utilisateur\\Desktop\\ENSAE\\Stat Bayésienne>if errorlevel 1 call :GetWin10SdkDirHelper HKLM\\SOFTWARE  1>nul 2>&1 \n",
      "\n",
      "C:\\Users\\Utilisateur\\Desktop\\ENSAE\\Stat Bayésienne>if errorlevel 1 call :GetWin10SdkDirHelper HKCU\\SOFTWARE  1>nul 2>&1 \n",
      "\n",
      "C:\\Users\\Utilisateur\\Desktop\\ENSAE\\Stat Bayésienne>if errorlevel 1 exit /B 1 \n",
      "\n",
      "C:\\Users\\Utilisateur\\Desktop\\ENSAE\\Stat Bayésienne>exit /B 0 \n"
     ]
    }
   ],
   "source": [
    "conda install Theano"
   ]
  },
  {
   "cell_type": "code",
   "execution_count": 1,
   "metadata": {},
   "outputs": [
    {
     "name": "stdout",
     "output_type": "stream",
     "text": [
      "[*********************100%***********************]  1 of 1 completed\n"
     ]
    },
    {
     "data": {
      "text/plain": [
       "Date\n",
       "2000-01-03    1455.219971\n",
       "2000-01-04    1399.420044\n",
       "2000-01-05    1402.109985\n",
       "2000-01-06    1403.449951\n",
       "2000-01-07    1441.469971\n",
       "                 ...     \n",
       "2020-12-23    3690.010010\n",
       "2020-12-24    3703.060059\n",
       "2020-12-28    3735.360107\n",
       "2020-12-29    3727.040039\n",
       "2020-12-30    3732.040039\n",
       "Name: Adj Close, Length: 5283, dtype: float64"
      ]
     },
     "execution_count": 1,
     "metadata": {},
     "output_type": "execute_result"
    }
   ],
   "source": [
    "import yfinance as yf\n",
    "import pandas as pd\n",
    "import numpy as np\n",
    "import random\n",
    "from random import sample\n",
    "import math\n",
    "import matplotlib.pyplot as plt\n",
    "\n",
    "list_tickers = ['^GSPC']\n",
    "\n",
    "data = yf.download(list_tickers, start=\"2000-01-02\", end=\"2020-12-31\")['Adj Close']\n",
    "data.dropna(inplace = True)\n",
    "data"
   ]
  },
  {
   "cell_type": "code",
   "execution_count": 2,
   "metadata": {},
   "outputs": [
    {
     "data": {
      "text/plain": [
       "Text(0.5, 1.0, 'S&P 500 variations')"
      ]
     },
     "execution_count": 2,
     "metadata": {},
     "output_type": "execute_result"
    },
    {
     "data": {
      "image/png": "[encoded data removed]",
      "text/plain": [
       "<Figure size 1440x720 with 1 Axes>"
      ]
     },
     "metadata": {
      "needs_background": "light"
     },
     "output_type": "display_data"
    }
   ],
   "source": [
    "plt.figure(figsize=(20,10))\n",
    "plt.plot(data, color='red')\n",
    "plt.xticks(rotation = 45)\n",
    "plt.ylabel('Index')\n",
    "plt.title('S&P 500 variations')"
   ]
  },
  {
   "cell_type": "code",
   "execution_count": 3,
   "metadata": {},
   "outputs": [
    {
     "data": {
      "text/plain": [
       "(5283,)"
      ]
     },
     "execution_count": 3,
     "metadata": {},
     "output_type": "execute_result"
    }
   ],
   "source": [
    "data.shape #total number of trade days "
   ]
  },
  {
   "cell_type": "code",
   "execution_count": 4,
   "metadata": {},
   "outputs": [
    {
     "name": "stdout",
     "output_type": "stream",
     "text": [
      "758\n",
      "2011\n",
      "4282\n",
      "L'indice a monté (en % des journées) : 53.69178341537296\n",
      "L'indice n'a pas bougé (en % des journées): 0.05679666792881485\n",
      "L'indice a baissé (en % des journées): 46.251419916698225\n",
      "[2836, 3, 2443]\n"
     ]
    }
   ],
   "source": [
    "move=[0,0,0] #[up, flat, down]\n",
    "def var(ticker):\n",
    "    for i in range(len(ticker)-1):\n",
    "        if ticker[i]>ticker[i-1]:\n",
    "            move[0]+=1\n",
    "        elif ticker[i]==ticker[i-1]:\n",
    "            move[1]+=1\n",
    "            print(i)\n",
    "        else:\n",
    "            move[2]+=1\n",
    "    print(\"L'indice a monté (en % des journées) : {}\".format((move[0]/sum(move))*100.00))\n",
    "    print(\"L'indice n'a pas bougé (en % des journées): {}\".format((move[1]/sum(move))*100.00))\n",
    "    print(\"L'indice a baissé (en % des journées): {}\".format((move[2]/sum(move))*100.00))\n",
    "        \n",
    "var(data)\n",
    "\n",
    "print(move)"
   ]
  },
  {
   "cell_type": "code",
   "execution_count": null,
   "metadata": {},
   "outputs": [],
   "source": []
  },
  {
   "cell_type": "code",
   "execution_count": 5,
   "metadata": {},
   "outputs": [
    {
     "data": {
      "text/plain": [
       "[2836, 3, 2443]"
      ]
     },
     "execution_count": 5,
     "metadata": {},
     "output_type": "execute_result"
    }
   ],
   "source": [
    "move"
   ]
  },
  {
   "cell_type": "code",
   "execution_count": 6,
   "metadata": {},
   "outputs": [
    {
     "data": {
      "text/plain": [
       "Text(0.5, 0, 'Outcomes')"
      ]
     },
     "execution_count": 6,
     "metadata": {},
     "output_type": "execute_result"
    },
    {
     "data": {
      "image/png": "[encoded data removed]",
      "text/plain": [
       "<Figure size 432x288 with 1 Axes>"
      ]
     },
     "metadata": {
      "needs_background": "light"
     },
     "output_type": "display_data"
    }
   ],
   "source": [
    "occurence = [move[0]/sum(move), move[1]/sum(move), move[2]/sum(move)]\n",
    "plt.bar(['Up', 'Flat', 'Down'], occurence)\n",
    "plt.title('PMF of multinomial with 3 outcomes')\n",
    "plt.ylabel('Probability')\n",
    "plt.xlabel('Outcomes')"
   ]
  },
  {
   "cell_type": "code",
   "execution_count": 7,
   "metadata": {},
   "outputs": [
    {
     "name": "stdout",
     "output_type": "stream",
     "text": [
      "Prevalence de Up: 38.42294585384324\n",
      "Prevalence de Flat: 25.014199166982205\n",
      "Prevalence de Down: 36.56285497917455\n"
     ]
    }
   ],
   "source": [
    "Outcomes = ['Up', 'Flat', 'Down']\n",
    "# Observations\n",
    "c = np.array(occurence)\n",
    "#Pseudocounts\n",
    "alphas = np.array([1, 1, 1])\n",
    "expected = (alphas + c) / (c.sum() + alphas.sum())\n",
    "print(\"Prevalence de Up: {}\".format(expected[0]*100.00))\n",
    "print(\"Prevalence de Flat: {}\".format(expected[1]*100.00))\n",
    "print(\"Prevalence de Down: {}\".format(expected[2]*100.00))"
   ]
  },
  {
   "cell_type": "code",
   "execution_count": 8,
   "metadata": {},
   "outputs": [
    {
     "data": {
      "text/html": [
       "<div>\n",
       "<style scoped>\n",
       "    .dataframe tbody tr th:only-of-type {\n",
       "        vertical-align: middle;\n",
       "    }\n",
       "\n",
       "    .dataframe tbody tr th {\n",
       "        vertical-align: top;\n",
       "    }\n",
       "\n",
       "    .dataframe thead th {\n",
       "        text-align: right;\n",
       "    }\n",
       "</style>\n",
       "<table border=\"1\" class=\"dataframe\">\n",
       "  <thead>\n",
       "    <tr style=\"text-align: right;\">\n",
       "      <th></th>\n",
       "      <th>Up</th>\n",
       "      <th>Flat</th>\n",
       "      <th>Down</th>\n",
       "    </tr>\n",
       "  </thead>\n",
       "  <tbody>\n",
       "    <tr>\n",
       "      <th>[0.1, 0.1, 0.1]</th>\n",
       "      <td>49.0</td>\n",
       "      <td>7.7</td>\n",
       "      <td>43.3</td>\n",
       "    </tr>\n",
       "    <tr>\n",
       "      <th>[1, 1, 1]</th>\n",
       "      <td>38.4</td>\n",
       "      <td>25.0</td>\n",
       "      <td>36.6</td>\n",
       "    </tr>\n",
       "    <tr>\n",
       "      <th>[5, 5, 5]</th>\n",
       "      <td>34.6</td>\n",
       "      <td>31.3</td>\n",
       "      <td>34.1</td>\n",
       "    </tr>\n",
       "    <tr>\n",
       "      <th>[15, 15, 15]</th>\n",
       "      <td>33.8</td>\n",
       "      <td>32.6</td>\n",
       "      <td>33.6</td>\n",
       "    </tr>\n",
       "  </tbody>\n",
       "</table>\n",
       "</div>"
      ],
      "text/plain": [
       "                   Up  Flat  Down\n",
       "[0.1, 0.1, 0.1]  49.0   7.7  43.3\n",
       "[1, 1, 1]        38.4  25.0  36.6\n",
       "[5, 5, 5]        34.6  31.3  34.1\n",
       "[15, 15, 15]     33.8  32.6  33.6"
      ]
     },
     "execution_count": 8,
     "metadata": {},
     "output_type": "execute_result"
    }
   ],
   "source": [
    "test_alpha = np.array([[0.1, 0.1, 0.1], [1, 1, 1], [5, 5, 5], [15, 15, 15]])\n",
    "c = np.array(occurence)\n",
    "res = []\n",
    "for i in range(len(test_alpha)):\n",
    "    alphas = test_alpha[i]   \n",
    "    res.append((alphas + c) / (c.sum() + alphas.sum()))\n",
    "\n",
    "res2 = np.round(res, decimals=3)*100 #increasing sum(alpha) disminish the weight of historical data\n",
    "df = pd.DataFrame(res2, columns=[\"Up\",\"Flat\",\"Down\"], index=['[0.1, 0.1, 0.1]','[1, 1, 1]','[5, 5, 5]', '[15, 15, 15]'])\n",
    "df"
   ]
  },
  {
   "cell_type": "code",
   "execution_count": 9,
   "metadata": {},
   "outputs": [
    {
     "data": {
      "image/png": "[encoded data removed]",
      "text/plain": [
       "<Figure size 432x288 with 1 Axes>"
      ]
     },
     "metadata": {
      "needs_background": "light"
     },
     "output_type": "display_data"
    }
   ],
   "source": [
    "labels = ['[0.1, 0.1, 0.1]','[1, 1, 1]','[5, 5, 5]', '[15, 15, 15]']\n",
    "Up = [49 , 38.4, 34.6, 33.8]\n",
    "Flat=[7.7, 25.0, 31.3, 32.6] \n",
    "Down=[43.3, 36.6, 34.1, 33.6]\n",
    "\n",
    "x = np.arange(len(labels))  # the label locations\n",
    "width = 0.25  # the width of the bars\n",
    "\n",
    "fig, ax = plt.subplots()\n",
    "rects1 = ax.bar(x - (width), Up, width, label='Up', color=\"Green\")\n",
    "rects2 = ax.bar(x, Flat, width, label='Flat', color=\"Blue\")\n",
    "rects3 = ax.bar(x + (width), Down, width, label='Down', color=\"Red\")\n",
    "\n",
    "# Add some text for labels, title and custom x-axis tick labels, etc.\n",
    "ax.set_ylabel('Posterior distribution from a Dirichletn Multinomial')\n",
    "ax.set_title('Increasing alpha disminish the weight of historical data')\n",
    "ax.set_xticks(x)\n",
    "ax.set_xticklabels(labels)\n",
    "ax.legend()\n",
    "\n",
    "\n",
    "def autolabel(rects):\n",
    "    \"\"\"Attach a text label above each bar in *rects*, displaying its height.\"\"\"\n",
    "    for rect in rects:\n",
    "        height = rect.get_height()\n",
    "        ax.annotate('{}'.format(height),\n",
    "                    xy=(rect.get_x() + rect.get_width() / 2, height),\n",
    "                    xytext=(0, 1),  # 3 points vertical offset\n",
    "                    textcoords=\"offset points\",\n",
    "                    ha='center', va='bottom')\n",
    "\n",
    "\n",
    "autolabel(rects1)\n",
    "autolabel(rects2)\n",
    "autolabel(rects3)\n",
    "\n",
    "fig.tight_layout()\n",
    "\n",
    "plt.show() \n",
    "#modifying sum(alpha) has a huge effects on the informativeness of the data we have access to.\n",
    "#Modifying alpha is also a great advantage to add inforamtion from an expert for example in case of a\n",
    "#Bull market (going Up) or Bear market (going Down). For the former case, increase weight of the fist alpha and in the latter,\n",
    "#increase weight on the last alpha will increase respectively their probability of happening"
   ]
  },
  {
   "cell_type": "code",
   "execution_count": 10,
   "metadata": {},
   "outputs": [
    {
     "data": {
      "text/plain": [
       "[0.5369178341537296, 0.0005679666792881485, 0.4625141991669822]"
      ]
     },
     "execution_count": 10,
     "metadata": {},
     "output_type": "execute_result"
    }
   ],
   "source": [
    "occurence"
   ]
  },
  {
   "cell_type": "code",
   "execution_count": 11,
   "metadata": {},
   "outputs": [
    {
     "data": {
      "text/plain": [
       "1.0"
      ]
     },
     "execution_count": 11,
     "metadata": {},
     "output_type": "execute_result"
    }
   ],
   "source": [
    "sum([0.5369, 0.0006, 0.4625])"
   ]
  },
  {
   "cell_type": "code",
   "execution_count": 13,
   "metadata": {},
   "outputs": [
    {
     "name": "stderr",
     "output_type": "stream",
     "text": [
      "Problem occurred during compilation with the command line below:\n",
      "\"cl.exe\" -shared -g -DNPY_NO_DEPRECATED_API=NPY_1_7_API_VERSION -m64 -DMS_WIN64 -I\"C:\\Users\\Utilisateur\\anaconda3\\lib\\site-packages\\numpy\\core\\include\" -I\"C:\\Users\\Utilisateur\\anaconda3\\include\" -I\"C:\\Users\\Utilisateur\\anaconda3\\lib\\site-packages\\theano\\gof\\c_code\" -L\"C:\\Users\\Utilisateur\\anaconda3\\libs\" -L\"C:\\Users\\Utilisateur\\anaconda3\" -o \"C:\\Users\\Utilisateur\\AppData\\Local\\Theano\\compiledir_Windows-10-10.0.19041-SP0-Intel64_Family_6_Model_78_Stepping_3_GenuineIntel-3.8.3-64\\lazylinker_ext\\lazylinker_ext.pyd\" \"C:\\Users\\Utilisateur\\AppData\\Local\\Theano\\compiledir_Windows-10-10.0.19041-SP0-Intel64_Family_6_Model_78_Stepping_3_GenuineIntel-3.8.3-64\\lazylinker_ext\\mod.cpp\" -lpython38\n"
     ]
    },
    {
     "ename": "AttributeError",
     "evalue": "partially initialized module 'theano' has no attribute 'gof' (most likely due to a circular import)",
     "output_type": "error",
     "traceback": [
      "\u001b[1;31m---------------------------------------------------------------------------\u001b[0m",
      "\u001b[1;31mImportError\u001b[0m                               Traceback (most recent call last)",
      "\u001b[1;32m~\\anaconda3\\lib\\site-packages\\theano\\gof\\lazylinker_c.py\u001b[0m in \u001b[0;36m<module>\u001b[1;34m\u001b[0m\n\u001b[0;32m     75\u001b[0m         \u001b[1;32mif\u001b[0m \u001b[0mversion\u001b[0m \u001b[1;33m!=\u001b[0m \u001b[0mactual_version\u001b[0m\u001b[1;33m:\u001b[0m\u001b[1;33m\u001b[0m\u001b[1;33m\u001b[0m\u001b[0m\n\u001b[1;32m---> 76\u001b[1;33m             raise ImportError(\n\u001b[0m\u001b[0;32m     77\u001b[0m                 \u001b[1;34m\"Version check of the existing lazylinker compiled file.\"\u001b[0m\u001b[1;33m\u001b[0m\u001b[1;33m\u001b[0m\u001b[0m\n",
      "\u001b[1;31mImportError\u001b[0m: Version check of the existing lazylinker compiled file. Looking for version 0.211, but found None. Extra debug information: force_compile=False, _need_reload=True",
      "\nDuring handling of the above exception, another exception occurred:\n",
      "\u001b[1;31mImportError\u001b[0m                               Traceback (most recent call last)",
      "\u001b[1;32m~\\anaconda3\\lib\\site-packages\\theano\\gof\\lazylinker_c.py\u001b[0m in \u001b[0;36m<module>\u001b[1;34m\u001b[0m\n\u001b[0;32m     98\u001b[0m             \u001b[1;32mif\u001b[0m \u001b[0mversion\u001b[0m \u001b[1;33m!=\u001b[0m \u001b[0mactual_version\u001b[0m\u001b[1;33m:\u001b[0m\u001b[1;33m\u001b[0m\u001b[1;33m\u001b[0m\u001b[0m\n\u001b[1;32m---> 99\u001b[1;33m                 raise ImportError(\n\u001b[0m\u001b[0;32m    100\u001b[0m                     \u001b[1;34m\"Version check of the existing lazylinker compiled file.\"\u001b[0m\u001b[1;33m\u001b[0m\u001b[1;33m\u001b[0m\u001b[0m\n",
      "\u001b[1;31mImportError\u001b[0m: Version check of the existing lazylinker compiled file. Looking for version 0.211, but found None. Extra debug information: force_compile=False, _need_reload=True",
      "\nDuring handling of the above exception, another exception occurred:\n",
      "\u001b[1;31mUnicodeDecodeError\u001b[0m                        Traceback (most recent call last)",
      "\u001b[1;32m~\\anaconda3\\lib\\site-packages\\theano\\gof\\vm.py\u001b[0m in \u001b[0;36m<module>\u001b[1;34m\u001b[0m\n\u001b[0;32m    673\u001b[0m         \u001b[1;32mraise\u001b[0m \u001b[0mtheano\u001b[0m\u001b[1;33m.\u001b[0m\u001b[0mgof\u001b[0m\u001b[1;33m.\u001b[0m\u001b[0mcmodule\u001b[0m\u001b[1;33m.\u001b[0m\u001b[0mMissingGXX\u001b[0m\u001b[1;33m(\u001b[0m\u001b[1;34m'lazylinker will not be imported if theano.config.cxx is not set.'\u001b[0m\u001b[1;33m)\u001b[0m\u001b[1;33m\u001b[0m\u001b[1;33m\u001b[0m\u001b[0m\n\u001b[1;32m--> 674\u001b[1;33m     \u001b[1;32mfrom\u001b[0m \u001b[1;33m.\u001b[0m \u001b[1;32mimport\u001b[0m \u001b[0mlazylinker_c\u001b[0m\u001b[1;33m\u001b[0m\u001b[1;33m\u001b[0m\u001b[0m\n\u001b[0m\u001b[0;32m    675\u001b[0m \u001b[1;33m\u001b[0m\u001b[0m\n",
      "\u001b[1;32m~\\anaconda3\\lib\\site-packages\\theano\\gof\\lazylinker_c.py\u001b[0m in \u001b[0;36m<module>\u001b[1;34m\u001b[0m\n\u001b[0;32m    138\u001b[0m             \u001b[0margs\u001b[0m \u001b[1;33m=\u001b[0m \u001b[0mcmodule\u001b[0m\u001b[1;33m.\u001b[0m\u001b[0mGCC_compiler\u001b[0m\u001b[1;33m.\u001b[0m\u001b[0mcompile_args\u001b[0m\u001b[1;33m(\u001b[0m\u001b[1;33m)\u001b[0m\u001b[1;33m\u001b[0m\u001b[1;33m\u001b[0m\u001b[0m\n\u001b[1;32m--> 139\u001b[1;33m             cmodule.GCC_compiler.compile_str(dirname, code, location=loc,\n\u001b[0m\u001b[0;32m    140\u001b[0m                                              preargs=args)\n",
      "\u001b[1;32m~\\anaconda3\\lib\\site-packages\\theano\\gof\\cmodule.py\u001b[0m in \u001b[0;36mcompile_str\u001b[1;34m(module_name, src_code, location, include_dirs, lib_dirs, libs, preargs, py_module, hide_symbols)\u001b[0m\n\u001b[0;32m   2354\u001b[0m             \u001b[0mp_out\u001b[0m \u001b[1;33m=\u001b[0m \u001b[0moutput_subprocess_Popen\u001b[0m\u001b[1;33m(\u001b[0m\u001b[0mcmd\u001b[0m\u001b[1;33m)\u001b[0m\u001b[1;33m\u001b[0m\u001b[1;33m\u001b[0m\u001b[0m\n\u001b[1;32m-> 2355\u001b[1;33m             \u001b[0mcompile_stderr\u001b[0m \u001b[1;33m=\u001b[0m \u001b[0mdecode\u001b[0m\u001b[1;33m(\u001b[0m\u001b[0mp_out\u001b[0m\u001b[1;33m[\u001b[0m\u001b[1;36m1\u001b[0m\u001b[1;33m]\u001b[0m\u001b[1;33m)\u001b[0m\u001b[1;33m\u001b[0m\u001b[1;33m\u001b[0m\u001b[0m\n\u001b[0m\u001b[0;32m   2356\u001b[0m         \u001b[1;32mexcept\u001b[0m \u001b[0mException\u001b[0m\u001b[1;33m:\u001b[0m\u001b[1;33m\u001b[0m\u001b[1;33m\u001b[0m\u001b[0m\n",
      "\u001b[1;32m~\\anaconda3\\lib\\site-packages\\theano\\compat\\__init__.py\u001b[0m in \u001b[0;36mdecode\u001b[1;34m(x)\u001b[0m\n\u001b[0;32m     48\u001b[0m     \u001b[1;32mdef\u001b[0m \u001b[0mdecode\u001b[0m\u001b[1;33m(\u001b[0m\u001b[0mx\u001b[0m\u001b[1;33m)\u001b[0m\u001b[1;33m:\u001b[0m\u001b[1;33m\u001b[0m\u001b[1;33m\u001b[0m\u001b[0m\n\u001b[1;32m---> 49\u001b[1;33m         \u001b[1;32mreturn\u001b[0m \u001b[0mx\u001b[0m\u001b[1;33m.\u001b[0m\u001b[0mdecode\u001b[0m\u001b[1;33m(\u001b[0m\u001b[1;33m)\u001b[0m\u001b[1;33m\u001b[0m\u001b[1;33m\u001b[0m\u001b[0m\n\u001b[0m\u001b[0;32m     50\u001b[0m \u001b[1;33m\u001b[0m\u001b[0m\n",
      "\u001b[1;31mUnicodeDecodeError\u001b[0m: 'utf-8' codec can't decode byte 0x92 in position 12: invalid start byte",
      "\nDuring handling of the above exception, another exception occurred:\n",
      "\u001b[1;31mAttributeError\u001b[0m                            Traceback (most recent call last)",
      "\u001b[1;32m<ipython-input-13-d934c8e9298a>\u001b[0m in \u001b[0;36m<module>\u001b[1;34m\u001b[0m\n\u001b[1;32m----> 1\u001b[1;33m \u001b[1;32mimport\u001b[0m \u001b[0mpymc3\u001b[0m \u001b[1;32mas\u001b[0m \u001b[0mpm\u001b[0m\u001b[1;33m\u001b[0m\u001b[1;33m\u001b[0m\u001b[0m\n\u001b[0m\u001b[0;32m      2\u001b[0m \u001b[1;33m\u001b[0m\u001b[0m\n\u001b[0;32m      3\u001b[0m \u001b[0malphas\u001b[0m \u001b[1;33m=\u001b[0m \u001b[0mnp\u001b[0m\u001b[1;33m.\u001b[0m\u001b[0marray\u001b[0m\u001b[1;33m(\u001b[0m\u001b[1;33m[\u001b[0m\u001b[1;36m0.15\u001b[0m\u001b[1;33m,\u001b[0m \u001b[1;36m0.15\u001b[0m\u001b[1;33m,\u001b[0m \u001b[1;36m0.15\u001b[0m\u001b[1;33m]\u001b[0m\u001b[1;33m)\u001b[0m\u001b[1;33m\u001b[0m\u001b[1;33m\u001b[0m\u001b[0m\n\u001b[0;32m      4\u001b[0m \u001b[0mc\u001b[0m \u001b[1;33m=\u001b[0m \u001b[0mnp\u001b[0m\u001b[1;33m.\u001b[0m\u001b[0marray\u001b[0m\u001b[1;33m(\u001b[0m\u001b[0moccurence\u001b[0m\u001b[1;33m)\u001b[0m  \u001b[1;31m#problem with probability vector : to check by replacing with np.array(occurence).\u001b[0m\u001b[1;33m\u001b[0m\u001b[1;33m\u001b[0m\u001b[0m\n\u001b[0;32m      5\u001b[0m \u001b[1;31m#If not np.array([6,0,4]) works\u001b[0m\u001b[1;33m\u001b[0m\u001b[1;33m\u001b[0m\u001b[1;33m\u001b[0m\u001b[0m\n",
      "\u001b[1;32m~\\anaconda3\\lib\\site-packages\\pymc3\\__init__.py\u001b[0m in \u001b[0;36m<module>\u001b[1;34m\u001b[0m\n\u001b[0;32m      3\u001b[0m \u001b[1;33m\u001b[0m\u001b[0m\n\u001b[0;32m      4\u001b[0m \u001b[1;32mfrom\u001b[0m \u001b[1;33m.\u001b[0m\u001b[0mblocking\u001b[0m \u001b[1;32mimport\u001b[0m \u001b[1;33m*\u001b[0m\u001b[1;33m\u001b[0m\u001b[1;33m\u001b[0m\u001b[0m\n\u001b[1;32m----> 5\u001b[1;33m \u001b[1;32mfrom\u001b[0m \u001b[1;33m.\u001b[0m\u001b[0mdistributions\u001b[0m \u001b[1;32mimport\u001b[0m \u001b[1;33m*\u001b[0m\u001b[1;33m\u001b[0m\u001b[1;33m\u001b[0m\u001b[0m\n\u001b[0m\u001b[0;32m      6\u001b[0m \u001b[1;32mfrom\u001b[0m \u001b[1;33m.\u001b[0m\u001b[0mdistributions\u001b[0m \u001b[1;32mimport\u001b[0m \u001b[0mtransforms\u001b[0m\u001b[1;33m\u001b[0m\u001b[1;33m\u001b[0m\u001b[0m\n\u001b[0;32m      7\u001b[0m \u001b[1;32mfrom\u001b[0m \u001b[1;33m.\u001b[0m\u001b[0mglm\u001b[0m \u001b[1;32mimport\u001b[0m \u001b[1;33m*\u001b[0m\u001b[1;33m\u001b[0m\u001b[1;33m\u001b[0m\u001b[0m\n",
      "\u001b[1;32m~\\anaconda3\\lib\\site-packages\\pymc3\\distributions\\__init__.py\u001b[0m in \u001b[0;36m<module>\u001b[1;34m\u001b[0m\n\u001b[1;32m----> 1\u001b[1;33m \u001b[1;32mfrom\u001b[0m \u001b[1;33m.\u001b[0m \u001b[1;32mimport\u001b[0m \u001b[0mtimeseries\u001b[0m\u001b[1;33m\u001b[0m\u001b[1;33m\u001b[0m\u001b[0m\n\u001b[0m\u001b[0;32m      2\u001b[0m \u001b[1;32mfrom\u001b[0m \u001b[1;33m.\u001b[0m \u001b[1;32mimport\u001b[0m \u001b[0mtransforms\u001b[0m\u001b[1;33m\u001b[0m\u001b[1;33m\u001b[0m\u001b[0m\n\u001b[0;32m      3\u001b[0m \u001b[1;32mfrom\u001b[0m \u001b[1;33m.\u001b[0m \u001b[1;32mimport\u001b[0m \u001b[0mshape_utils\u001b[0m\u001b[1;33m\u001b[0m\u001b[1;33m\u001b[0m\u001b[0m\n\u001b[0;32m      4\u001b[0m \u001b[1;33m\u001b[0m\u001b[0m\n\u001b[0;32m      5\u001b[0m \u001b[1;32mfrom\u001b[0m \u001b[1;33m.\u001b[0m\u001b[0mcontinuous\u001b[0m \u001b[1;32mimport\u001b[0m \u001b[0mUniform\u001b[0m\u001b[1;33m\u001b[0m\u001b[1;33m\u001b[0m\u001b[0m\n",
      "\u001b[1;32m~\\anaconda3\\lib\\site-packages\\pymc3\\distributions\\timeseries.py\u001b[0m in \u001b[0;36m<module>\u001b[1;34m\u001b[0m\n\u001b[0;32m      1\u001b[0m \u001b[1;32mfrom\u001b[0m \u001b[0mscipy\u001b[0m \u001b[1;32mimport\u001b[0m \u001b[0mstats\u001b[0m\u001b[1;33m\u001b[0m\u001b[1;33m\u001b[0m\u001b[0m\n\u001b[1;32m----> 2\u001b[1;33m \u001b[1;32mimport\u001b[0m \u001b[0mtheano\u001b[0m\u001b[1;33m.\u001b[0m\u001b[0mtensor\u001b[0m \u001b[1;32mas\u001b[0m \u001b[0mtt\u001b[0m\u001b[1;33m\u001b[0m\u001b[1;33m\u001b[0m\u001b[0m\n\u001b[0m\u001b[0;32m      3\u001b[0m \u001b[1;32mfrom\u001b[0m \u001b[0mtheano\u001b[0m \u001b[1;32mimport\u001b[0m \u001b[0mscan\u001b[0m\u001b[1;33m\u001b[0m\u001b[1;33m\u001b[0m\u001b[0m\n\u001b[0;32m      4\u001b[0m \u001b[1;33m\u001b[0m\u001b[0m\n\u001b[0;32m      5\u001b[0m \u001b[1;32mfrom\u001b[0m \u001b[0mpymc3\u001b[0m\u001b[1;33m.\u001b[0m\u001b[0mutil\u001b[0m \u001b[1;32mimport\u001b[0m \u001b[0mget_variable_name\u001b[0m\u001b[1;33m\u001b[0m\u001b[1;33m\u001b[0m\u001b[0m\n",
      "\u001b[1;32m~\\anaconda3\\lib\\site-packages\\theano\\__init__.py\u001b[0m in \u001b[0;36m<module>\u001b[1;34m\u001b[0m\n\u001b[0;32m    108\u001b[0m     object2, utils)\n\u001b[0;32m    109\u001b[0m \u001b[1;33m\u001b[0m\u001b[0m\n\u001b[1;32m--> 110\u001b[1;33m from theano.compile import (\n\u001b[0m\u001b[0;32m    111\u001b[0m     \u001b[0mSymbolicInput\u001b[0m\u001b[1;33m,\u001b[0m \u001b[0mIn\u001b[0m\u001b[1;33m,\u001b[0m\u001b[1;33m\u001b[0m\u001b[1;33m\u001b[0m\u001b[0m\n\u001b[0;32m    112\u001b[0m     \u001b[0mSymbolicOutput\u001b[0m\u001b[1;33m,\u001b[0m \u001b[0mOut\u001b[0m\u001b[1;33m,\u001b[0m\u001b[1;33m\u001b[0m\u001b[1;33m\u001b[0m\u001b[0m\n",
      "\u001b[1;32m~\\anaconda3\\lib\\site-packages\\theano\\compile\\__init__.py\u001b[0m in \u001b[0;36m<module>\u001b[1;34m\u001b[0m\n\u001b[0;32m     10\u001b[0m \u001b[1;32mfrom\u001b[0m \u001b[0mtheano\u001b[0m\u001b[1;33m.\u001b[0m\u001b[0mcompile\u001b[0m\u001b[1;33m.\u001b[0m\u001b[0mfunction_module\u001b[0m \u001b[1;32mimport\u001b[0m \u001b[1;33m*\u001b[0m\u001b[1;33m\u001b[0m\u001b[1;33m\u001b[0m\u001b[0m\n\u001b[0;32m     11\u001b[0m \u001b[1;33m\u001b[0m\u001b[0m\n\u001b[1;32m---> 12\u001b[1;33m \u001b[1;32mfrom\u001b[0m \u001b[0mtheano\u001b[0m\u001b[1;33m.\u001b[0m\u001b[0mcompile\u001b[0m\u001b[1;33m.\u001b[0m\u001b[0mmode\u001b[0m \u001b[1;32mimport\u001b[0m \u001b[1;33m*\u001b[0m\u001b[1;33m\u001b[0m\u001b[1;33m\u001b[0m\u001b[0m\n\u001b[0m\u001b[0;32m     13\u001b[0m \u001b[1;33m\u001b[0m\u001b[0m\n\u001b[0;32m     14\u001b[0m \u001b[1;32mfrom\u001b[0m \u001b[0mtheano\u001b[0m\u001b[1;33m.\u001b[0m\u001b[0mcompile\u001b[0m\u001b[1;33m.\u001b[0m\u001b[0mio\u001b[0m \u001b[1;32mimport\u001b[0m \u001b[1;33m*\u001b[0m\u001b[1;33m\u001b[0m\u001b[1;33m\u001b[0m\u001b[0m\n",
      "\u001b[1;32m~\\anaconda3\\lib\\site-packages\\theano\\compile\\mode.py\u001b[0m in \u001b[0;36m<module>\u001b[1;34m\u001b[0m\n\u001b[0;32m      9\u001b[0m \u001b[1;32mimport\u001b[0m \u001b[0mtheano\u001b[0m\u001b[1;33m\u001b[0m\u001b[1;33m\u001b[0m\u001b[0m\n\u001b[0;32m     10\u001b[0m \u001b[1;32mfrom\u001b[0m \u001b[0mtheano\u001b[0m \u001b[1;32mimport\u001b[0m \u001b[0mgof\u001b[0m\u001b[1;33m\u001b[0m\u001b[1;33m\u001b[0m\u001b[0m\n\u001b[1;32m---> 11\u001b[1;33m \u001b[1;32mimport\u001b[0m \u001b[0mtheano\u001b[0m\u001b[1;33m.\u001b[0m\u001b[0mgof\u001b[0m\u001b[1;33m.\u001b[0m\u001b[0mvm\u001b[0m\u001b[1;33m\u001b[0m\u001b[1;33m\u001b[0m\u001b[0m\n\u001b[0m\u001b[0;32m     12\u001b[0m \u001b[1;32mfrom\u001b[0m \u001b[0mtheano\u001b[0m \u001b[1;32mimport\u001b[0m \u001b[0mconfig\u001b[0m\u001b[1;33m\u001b[0m\u001b[1;33m\u001b[0m\u001b[0m\n\u001b[0;32m     13\u001b[0m \u001b[1;32mfrom\u001b[0m \u001b[0msix\u001b[0m \u001b[1;32mimport\u001b[0m \u001b[0mstring_types\u001b[0m\u001b[1;33m\u001b[0m\u001b[1;33m\u001b[0m\u001b[0m\n",
      "\u001b[1;32m~\\anaconda3\\lib\\site-packages\\theano\\gof\\vm.py\u001b[0m in \u001b[0;36m<module>\u001b[1;34m\u001b[0m\n\u001b[0;32m    681\u001b[0m \u001b[1;32mexcept\u001b[0m \u001b[0mImportError\u001b[0m\u001b[1;33m:\u001b[0m\u001b[1;33m\u001b[0m\u001b[1;33m\u001b[0m\u001b[0m\n\u001b[0;32m    682\u001b[0m     \u001b[1;32mpass\u001b[0m\u001b[1;33m\u001b[0m\u001b[1;33m\u001b[0m\u001b[0m\n\u001b[1;32m--> 683\u001b[1;33m \u001b[1;32mexcept\u001b[0m \u001b[1;33m(\u001b[0m\u001b[0mOSError\u001b[0m\u001b[1;33m,\u001b[0m \u001b[0mtheano\u001b[0m\u001b[1;33m.\u001b[0m\u001b[0mgof\u001b[0m\u001b[1;33m.\u001b[0m\u001b[0mcmodule\u001b[0m\u001b[1;33m.\u001b[0m\u001b[0mMissingGXX\u001b[0m\u001b[1;33m)\u001b[0m \u001b[1;32mas\u001b[0m \u001b[0me\u001b[0m\u001b[1;33m:\u001b[0m\u001b[1;33m\u001b[0m\u001b[1;33m\u001b[0m\u001b[0m\n\u001b[0m\u001b[0;32m    684\u001b[0m     \u001b[1;31m# OSError happens when g++ is not installed.  In that case, we\u001b[0m\u001b[1;33m\u001b[0m\u001b[1;33m\u001b[0m\u001b[1;33m\u001b[0m\u001b[0m\n\u001b[0;32m    685\u001b[0m     \u001b[1;31m# already changed the default linker to something else then CVM.\u001b[0m\u001b[1;33m\u001b[0m\u001b[1;33m\u001b[0m\u001b[1;33m\u001b[0m\u001b[0m\n",
      "\u001b[1;31mAttributeError\u001b[0m: partially initialized module 'theano' has no attribute 'gof' (most likely due to a circular import)"
     ]
    }
   ],
   "source": [
    "import pymc3 as pm\n",
    "\n",
    "alphas = np.array([0.15, 0.15, 0.15])\n",
    "c = np.array(occurence)  #problem with probability vector : to check by replacing with np.array(occurence). \n",
    "#If not np.array([6,0,4]) works\n",
    "\n",
    "# Create model\n",
    "with pm.Model() as model:\n",
    "    # Parameters of the Multinom[0.5369, 0.0006, 0.4625]ial are from a Dirichlet\n",
    "    parameters = pm.Dirichlet('parameters', a=alphas, shape=3)\n",
    "    # Observed data is from a Multinomial distribution\n",
    "    observed_data = pm.Multinomial(\n",
    "        'observed_data', n=6, p=parameters, shape=3, observed=c)     #if np.array(occurence), change n ?\n",
    "    \n",
    "    trace = pm.sample(draws=1000, chains=2, tune=500, \n",
    "                      discard_tuned_samples=True)"
   ]
  },
  {
   "cell_type": "code",
   "execution_count": 28,
   "metadata": {},
   "outputs": [
    {
     "ename": "SamplingError",
     "evalue": "Initial evaluation of model at starting point failed!\nStarting values:\n{'parameters_stickbreaking__': array([0., 0.])}\n\nInitial evaluation results:\nparameters_stickbreaking__   -4.2\nobserved_data                -inf\nName: Log-probability of test_point, dtype: float64",
     "output_type": "error",
     "traceback": [
      "\u001b[1;31m---------------------------------------------------------------------------\u001b[0m",
      "\u001b[1;31mSamplingError\u001b[0m                             Traceback (most recent call last)",
      "\u001b[1;32m<ipython-input-28-fdb9c5e27e45>\u001b[0m in \u001b[0;36m<module>\u001b[1;34m\u001b[0m\n\u001b[0;32m      1\u001b[0m \u001b[1;32mwith\u001b[0m \u001b[0mmodel\u001b[0m\u001b[1;33m:\u001b[0m\u001b[1;33m\u001b[0m\u001b[1;33m\u001b[0m\u001b[0m\n\u001b[0;32m      2\u001b[0m     \u001b[1;31m# Sample from the posterior\u001b[0m\u001b[1;33m\u001b[0m\u001b[1;33m\u001b[0m\u001b[1;33m\u001b[0m\u001b[0m\n\u001b[1;32m----> 3\u001b[1;33m     trace = pm.sample(draws=1000, chains=2, tune=500, \n\u001b[0m\u001b[0;32m      4\u001b[0m                       discard_tuned_samples=True)\n",
      "\u001b[1;32m~\\anaconda3\\lib\\site-packages\\pymc3\\sampling.py\u001b[0m in \u001b[0;36msample\u001b[1;34m(draws, step, init, n_init, start, trace, chain_idx, chains, cores, tune, progressbar, model, random_seed, discard_tuned_samples, compute_convergence_checks, callback, jitter_max_retries, return_inferencedata, idata_kwargs, mp_ctx, pickle_backend, **kwargs)\u001b[0m\n\u001b[0;32m    425\u001b[0m     \u001b[0mmodel\u001b[0m \u001b[1;33m=\u001b[0m \u001b[0mmodelcontext\u001b[0m\u001b[1;33m(\u001b[0m\u001b[0mmodel\u001b[0m\u001b[1;33m)\u001b[0m\u001b[1;33m\u001b[0m\u001b[1;33m\u001b[0m\u001b[0m\n\u001b[0;32m    426\u001b[0m     \u001b[1;32mif\u001b[0m \u001b[0mstart\u001b[0m \u001b[1;32mis\u001b[0m \u001b[1;32mNone\u001b[0m\u001b[1;33m:\u001b[0m\u001b[1;33m\u001b[0m\u001b[1;33m\u001b[0m\u001b[0m\n\u001b[1;32m--> 427\u001b[1;33m         \u001b[0mcheck_start_vals\u001b[0m\u001b[1;33m(\u001b[0m\u001b[0mmodel\u001b[0m\u001b[1;33m.\u001b[0m\u001b[0mtest_point\u001b[0m\u001b[1;33m,\u001b[0m \u001b[0mmodel\u001b[0m\u001b[1;33m)\u001b[0m\u001b[1;33m\u001b[0m\u001b[1;33m\u001b[0m\u001b[0m\n\u001b[0m\u001b[0;32m    428\u001b[0m     \u001b[1;32melse\u001b[0m\u001b[1;33m:\u001b[0m\u001b[1;33m\u001b[0m\u001b[1;33m\u001b[0m\u001b[0m\n\u001b[0;32m    429\u001b[0m         \u001b[1;32mif\u001b[0m \u001b[0misinstance\u001b[0m\u001b[1;33m(\u001b[0m\u001b[0mstart\u001b[0m\u001b[1;33m,\u001b[0m \u001b[0mdict\u001b[0m\u001b[1;33m)\u001b[0m\u001b[1;33m:\u001b[0m\u001b[1;33m\u001b[0m\u001b[1;33m\u001b[0m\u001b[0m\n",
      "\u001b[1;32m~\\anaconda3\\lib\\site-packages\\pymc3\\util.py\u001b[0m in \u001b[0;36mcheck_start_vals\u001b[1;34m(start, model)\u001b[0m\n\u001b[0;32m    227\u001b[0m \u001b[1;33m\u001b[0m\u001b[0m\n\u001b[0;32m    228\u001b[0m         \u001b[1;32mif\u001b[0m \u001b[1;32mnot\u001b[0m \u001b[0mnp\u001b[0m\u001b[1;33m.\u001b[0m\u001b[0mall\u001b[0m\u001b[1;33m(\u001b[0m\u001b[0mnp\u001b[0m\u001b[1;33m.\u001b[0m\u001b[0misfinite\u001b[0m\u001b[1;33m(\u001b[0m\u001b[0minitial_eval\u001b[0m\u001b[1;33m)\u001b[0m\u001b[1;33m)\u001b[0m\u001b[1;33m:\u001b[0m\u001b[1;33m\u001b[0m\u001b[1;33m\u001b[0m\u001b[0m\n\u001b[1;32m--> 229\u001b[1;33m             raise SamplingError(\n\u001b[0m\u001b[0;32m    230\u001b[0m                 \u001b[1;34m\"Initial evaluation of model at starting point failed!\\n\"\u001b[0m\u001b[1;33m\u001b[0m\u001b[1;33m\u001b[0m\u001b[0m\n\u001b[0;32m    231\u001b[0m                 \u001b[1;34m\"Starting values:\\n{}\\n\\n\"\u001b[0m\u001b[1;33m\u001b[0m\u001b[1;33m\u001b[0m\u001b[0m\n",
      "\u001b[1;31mSamplingError\u001b[0m: Initial evaluation of model at starting point failed!\nStarting values:\n{'parameters_stickbreaking__': array([0., 0.])}\n\nInitial evaluation results:\nparameters_stickbreaking__   -4.2\nobserved_data                -inf\nName: Log-probability of test_point, dtype: float64"
     ]
    }
   ],
   "source": [
    "with model:\n",
    "    # Sample from the posterior\n",
    "    "
   ]
  },
  {
   "cell_type": "code",
   "execution_count": null,
   "metadata": {},
   "outputs": [],
   "source": [
    "pm.traceplot\n",
    "az.plot_trace(idata, kind=\"rank_vlines\")"
   ]
  },
  {
   "cell_type": "code",
   "execution_count": null,
   "metadata": {},
   "outputs": [],
   "source": []
  },
  {
   "cell_type": "code",
   "execution_count": null,
   "metadata": {},
   "outputs": [],
   "source": []
  },
  {
   "cell_type": "markdown",
   "metadata": {},
   "source": [
    "We notice that we have 3 days where the S&N500 value closed at the EXACT same valuation than the day before. As we want to end with just 2 outputs (Up & Down), we will convert these 3 flat days into one of these 2 options. \n",
    "We estimate that respecting trends is a way that makes sense. For example for a given flat day, is the previous day was Up then we consider this flat day as Up as well. On the opposite, if the previous day was Down then the Flat day will be considered as Down as well."
   ]
  },
  {
   "cell_type": "code",
   "execution_count": 14,
   "metadata": {},
   "outputs": [
    {
     "name": "stdout",
     "output_type": "stream",
     "text": [
      "L'indice a monté (en % des journées) : 53.710715638015905\n",
      "L'indice a baissé (en % des journées): 46.289284361984095\n",
      "[2837, 2445]\n"
     ]
    }
   ],
   "source": [
    "move=[0,0] #[up, flat, down]\n",
    "def var(ticker):\n",
    "    for i in range(len(ticker)-1):\n",
    "        if ticker[i]>ticker[i-1]:\n",
    "            move[0]+=1\n",
    "        elif ticker[i]==ticker[i-1]:\n",
    "            if ticker[i-1]>ticker[i-2]:\n",
    "                move[0]+=1\n",
    "            if ticker[i-1]<ticker[i-2]:\n",
    "                move[1]+=1\n",
    "        else:\n",
    "            move[1]+=1\n",
    "    print(\"L'indice a monté (en % des journées) : {}\".format((move[0]/sum(move))*100.00))\n",
    "    print(\"L'indice a baissé (en % des journées): {}\".format((move[1]/sum(move))*100.00))\n",
    "#     print(\"L'indice n'a pas bougé (en % des journées): {}\".format((move[1]/sum(move))*100.00))\n",
    "    \n",
    "        \n",
    "var(data)\n",
    "\n",
    "print(move)"
   ]
  },
  {
   "cell_type": "code",
   "execution_count": 15,
   "metadata": {},
   "outputs": [
    {
     "data": {
      "text/plain": [
       "Text(0.5, 0, 'Outcomes')"
      ]
     },
     "execution_count": 15,
     "metadata": {},
     "output_type": "execute_result"
    },
    {
     "data": {
      "image/png": "[encoded data removed]",
      "text/plain": [
       "<Figure size 432x288 with 1 Axes>"
      ]
     },
     "metadata": {
      "needs_background": "light"
     },
     "output_type": "display_data"
    }
   ],
   "source": [
    "occurence = [move[0]/sum(move), move[1]/sum(move)]\n",
    "plt.bar(['Up', 'Down'], occurence)\n",
    "plt.title('PMF of multinomial with 2 outcomes')\n",
    "plt.ylabel('Probability')\n",
    "plt.xlabel('Outcomes')"
   ]
  },
  {
   "cell_type": "code",
   "execution_count": 16,
   "metadata": {},
   "outputs": [
    {
     "name": "stdout",
     "output_type": "stream",
     "text": [
      "Prevalence de Up: 51.23690521267197\n",
      "Prevalence de Down: 48.76309478732803\n"
     ]
    }
   ],
   "source": [
    "Outcomes = ['Up', 'Down']\n",
    "# Observations\n",
    "c = np.array(occurence)\n",
    "#Pseudocounts\n",
    "alphas = np.array([1, 1])\n",
    "expected = (alphas + c) / (c.sum() + alphas.sum())\n",
    "print(\"Prevalence de Up: {}\".format(expected[0]*100.00))\n",
    "print(\"Prevalence de Down: {}\".format(expected[1]*100.00))"
   ]
  },
  {
   "cell_type": "code",
   "execution_count": 17,
   "metadata": {},
   "outputs": [
    {
     "data": {
      "text/html": [
       "<div>\n",
       "<style scoped>\n",
       "    .dataframe tbody tr th:only-of-type {\n",
       "        vertical-align: middle;\n",
       "    }\n",
       "\n",
       "    .dataframe tbody tr th {\n",
       "        vertical-align: top;\n",
       "    }\n",
       "\n",
       "    .dataframe thead th {\n",
       "        text-align: right;\n",
       "    }\n",
       "</style>\n",
       "<table border=\"1\" class=\"dataframe\">\n",
       "  <thead>\n",
       "    <tr style=\"text-align: right;\">\n",
       "      <th></th>\n",
       "      <th>Up</th>\n",
       "      <th>Down</th>\n",
       "    </tr>\n",
       "  </thead>\n",
       "  <tbody>\n",
       "    <tr>\n",
       "      <th>[0.1, 0.1]</th>\n",
       "      <td>53.1</td>\n",
       "      <td>46.9</td>\n",
       "    </tr>\n",
       "    <tr>\n",
       "      <th>[1, 1]</th>\n",
       "      <td>51.2</td>\n",
       "      <td>48.8</td>\n",
       "    </tr>\n",
       "    <tr>\n",
       "      <th>[5, 5]</th>\n",
       "      <td>50.3</td>\n",
       "      <td>49.7</td>\n",
       "    </tr>\n",
       "    <tr>\n",
       "      <th>[15, 15]</th>\n",
       "      <td>50.1</td>\n",
       "      <td>49.9</td>\n",
       "    </tr>\n",
       "  </tbody>\n",
       "</table>\n",
       "</div>"
      ],
      "text/plain": [
       "              Up  Down\n",
       "[0.1, 0.1]  53.1  46.9\n",
       "[1, 1]      51.2  48.8\n",
       "[5, 5]      50.3  49.7\n",
       "[15, 15]    50.1  49.9"
      ]
     },
     "execution_count": 17,
     "metadata": {},
     "output_type": "execute_result"
    }
   ],
   "source": [
    "test_alpha = np.array([[0.1, 0.1], [1, 1], [5, 5], [15, 15]])\n",
    "c = np.array(occurence)\n",
    "res = []\n",
    "for i in range(len(test_alpha)):\n",
    "    alphas = test_alpha[i]   \n",
    "    res.append((alphas + c) / (c.sum() + alphas.sum()))\n",
    "\n",
    "res2 = np.round(res, decimals=3)*100 #increasing sum(alpha) disminish the weight of historical data\n",
    "df = pd.DataFrame(res2, columns=[\"Up\",\"Down\"], index=['[0.1, 0.1]','[1, 1]','[5, 5]', '[15, 15]'])\n",
    "df"
   ]
  },
  {
   "cell_type": "code",
   "execution_count": 22,
   "metadata": {},
   "outputs": [
    {
     "data": {
      "image/png": "[encoded data removed]",
      "text/plain": [
       "<Figure size 432x288 with 1 Axes>"
      ]
     },
     "metadata": {
      "needs_background": "light"
     },
     "output_type": "display_data"
    }
   ],
   "source": [
    "labels = ['[0.1, 0.1]','[1, 1]','[5, 5]', '[15, 15]']\n",
    "Up = [51.1,51.2,50.3,50.1]\n",
    "Down=[46.9,48.8,49.7,49.9]\n",
    "\n",
    "x = np.arange(len(labels))  # the label locations\n",
    "width = 0.25  # the width of the bars\n",
    "\n",
    "fig, ax = plt.subplots()\n",
    "rects1 = ax.bar(x - (width)/2, Up, width, label='Up', color=\"Green\")\n",
    "rects2 = ax.bar(x + (width)/2, Down, width, label='Down', color=\"Red\")\n",
    "\n",
    "# Add some text for labels, title and custom x-axis tick labels, etc.\n",
    "ax.set_ylabel('Posterior distribution from a Dirichletn Multinomial')\n",
    "ax.set_title('Increasing alpha disminish the weight of historical data')\n",
    "ax.set_xticks(x)\n",
    "ax.set_xticklabels(labels)\n",
    "ax.legend()\n",
    "\n",
    "\n",
    "def autolabel(rects):\n",
    "    \"\"\"Attach a text label above each bar in *rects*, displaying its height.\"\"\"\n",
    "    for rect in rects:\n",
    "        height = rect.get_height()\n",
    "        ax.annotate('{}'.format(height),\n",
    "                    xy=(rect.get_x() + rect.get_width() / 2, height),\n",
    "                    xytext=(0, 1),  # 3 points vertical offset\n",
    "                    textcoords=\"offset points\",\n",
    "                    ha='center', va='bottom')\n",
    "\n",
    "\n",
    "autolabel(rects1)\n",
    "autolabel(rects2)\n",
    "\n",
    "fig.tight_layout()\n",
    "\n",
    "plt.show() \n",
    "#modifying sum(alpha) has a huge effects on the informativeness of the data we have access to.\n",
    "#Modifying alpha is also a great advantage to add inforamtion from an expert for example in case of a\n",
    "#Bull market (going Up) or Bear market (going Down). For the former case, increase weight of the fist alpha and in the latter,\n",
    "#increase weight on the last alpha will increase respectively their probability of happening"
   ]
  },
  {
   "cell_type": "code",
   "execution_count": 28,
   "metadata": {},
   "outputs": [
    {
     "name": "stdout",
     "output_type": "stream",
     "text": [
      "[0.537107156380159, 0.46289284361984095]\n",
      "[2837, 2445]\n"
     ]
    }
   ],
   "source": [
    "print(occurence)\n",
    "print(move)"
   ]
  },
  {
   "cell_type": "code",
   "execution_count": 27,
   "metadata": {},
   "outputs": [
    {
     "ename": "SamplingError",
     "evalue": "Initial evaluation of model at starting point failed!\nStarting values:\n{'parameters_stickbreaking__': array([0.])}\n\nInitial evaluation results:\nparameters_stickbreaking__   -2.07\nobserved_data                 -inf\nName: Log-probability of test_point, dtype: float64",
     "output_type": "error",
     "traceback": [
      "\u001b[1;31m---------------------------------------------------------------------------\u001b[0m",
      "\u001b[1;31mSamplingError\u001b[0m                             Traceback (most recent call last)",
      "\u001b[1;32m<ipython-input-27-45ca11e82bb1>\u001b[0m in \u001b[0;36m<module>\u001b[1;34m\u001b[0m\n\u001b[0;32m     13\u001b[0m         'observed_data', n=1, p=parameters, shape=2, observed=c)     #if np.array(occurence), change n ?\n\u001b[0;32m     14\u001b[0m \u001b[1;33m\u001b[0m\u001b[0m\n\u001b[1;32m---> 15\u001b[1;33m     trace = pm.sample(draws=1000, chains=2, tune=500, \n\u001b[0m\u001b[0;32m     16\u001b[0m                       discard_tuned_samples=True)\n",
      "\u001b[1;32m~\\anaconda3\\lib\\site-packages\\pymc3\\sampling.py\u001b[0m in \u001b[0;36msample\u001b[1;34m(draws, step, init, n_init, start, trace, chain_idx, chains, cores, tune, progressbar, model, random_seed, discard_tuned_samples, compute_convergence_checks, callback, jitter_max_retries, return_inferencedata, idata_kwargs, mp_ctx, pickle_backend, **kwargs)\u001b[0m\n\u001b[0;32m    425\u001b[0m     \u001b[0mmodel\u001b[0m \u001b[1;33m=\u001b[0m \u001b[0mmodelcontext\u001b[0m\u001b[1;33m(\u001b[0m\u001b[0mmodel\u001b[0m\u001b[1;33m)\u001b[0m\u001b[1;33m\u001b[0m\u001b[1;33m\u001b[0m\u001b[0m\n\u001b[0;32m    426\u001b[0m     \u001b[1;32mif\u001b[0m \u001b[0mstart\u001b[0m \u001b[1;32mis\u001b[0m \u001b[1;32mNone\u001b[0m\u001b[1;33m:\u001b[0m\u001b[1;33m\u001b[0m\u001b[1;33m\u001b[0m\u001b[0m\n\u001b[1;32m--> 427\u001b[1;33m         \u001b[0mcheck_start_vals\u001b[0m\u001b[1;33m(\u001b[0m\u001b[0mmodel\u001b[0m\u001b[1;33m.\u001b[0m\u001b[0mtest_point\u001b[0m\u001b[1;33m,\u001b[0m \u001b[0mmodel\u001b[0m\u001b[1;33m)\u001b[0m\u001b[1;33m\u001b[0m\u001b[1;33m\u001b[0m\u001b[0m\n\u001b[0m\u001b[0;32m    428\u001b[0m     \u001b[1;32melse\u001b[0m\u001b[1;33m:\u001b[0m\u001b[1;33m\u001b[0m\u001b[1;33m\u001b[0m\u001b[0m\n\u001b[0;32m    429\u001b[0m         \u001b[1;32mif\u001b[0m \u001b[0misinstance\u001b[0m\u001b[1;33m(\u001b[0m\u001b[0mstart\u001b[0m\u001b[1;33m,\u001b[0m \u001b[0mdict\u001b[0m\u001b[1;33m)\u001b[0m\u001b[1;33m:\u001b[0m\u001b[1;33m\u001b[0m\u001b[1;33m\u001b[0m\u001b[0m\n",
      "\u001b[1;32m~\\anaconda3\\lib\\site-packages\\pymc3\\util.py\u001b[0m in \u001b[0;36mcheck_start_vals\u001b[1;34m(start, model)\u001b[0m\n\u001b[0;32m    227\u001b[0m \u001b[1;33m\u001b[0m\u001b[0m\n\u001b[0;32m    228\u001b[0m         \u001b[1;32mif\u001b[0m \u001b[1;32mnot\u001b[0m \u001b[0mnp\u001b[0m\u001b[1;33m.\u001b[0m\u001b[0mall\u001b[0m\u001b[1;33m(\u001b[0m\u001b[0mnp\u001b[0m\u001b[1;33m.\u001b[0m\u001b[0misfinite\u001b[0m\u001b[1;33m(\u001b[0m\u001b[0minitial_eval\u001b[0m\u001b[1;33m)\u001b[0m\u001b[1;33m)\u001b[0m\u001b[1;33m:\u001b[0m\u001b[1;33m\u001b[0m\u001b[1;33m\u001b[0m\u001b[0m\n\u001b[1;32m--> 229\u001b[1;33m             raise SamplingError(\n\u001b[0m\u001b[0;32m    230\u001b[0m                 \u001b[1;34m\"Initial evaluation of model at starting point failed!\\n\"\u001b[0m\u001b[1;33m\u001b[0m\u001b[1;33m\u001b[0m\u001b[0m\n\u001b[0;32m    231\u001b[0m                 \u001b[1;34m\"Starting values:\\n{}\\n\\n\"\u001b[0m\u001b[1;33m\u001b[0m\u001b[1;33m\u001b[0m\u001b[0m\n",
      "\u001b[1;31mSamplingError\u001b[0m: Initial evaluation of model at starting point failed!\nStarting values:\n{'parameters_stickbreaking__': array([0.])}\n\nInitial evaluation results:\nparameters_stickbreaking__   -2.07\nobserved_data                 -inf\nName: Log-probability of test_point, dtype: float64"
     ]
    }
   ],
   "source": [
    "import pymc3 as pm\n",
    "\n",
    "alphas = np.array([0.15, 0.15])\n",
    "c = np.array([2837, 2445])  #problem with probability vector : to check by replacing with np.array(occurence). \n",
    "#If not np.array([6,0,4]) works\n",
    "\n",
    "# Create model\n",
    "with pm.Model() as model:\n",
    "    # Parameters of the Multinomial are from a Dirichlet\n",
    "    parameters = pm.Dirichlet('parameters', a=alphas, shape=2)\n",
    "    # Observed data is from a Multinomial distribution\n",
    "    observed_data = pm.Multinomial(\n",
    "        'observed_data', n=1, p=parameters, shape=2, observed=c)     #if np.array(occurence), change n ?\n",
    "    \n",
    "    trace = pm.sample(draws=1000, chains=2, tune=500, \n",
    "                      discard_tuned_samples=True)"
   ]
  },
  {
   "cell_type": "code",
   "execution_count": null,
   "metadata": {},
   "outputs": [],
   "source": []
  }
 ],
 "metadata": {
  "kernelspec": {
   "display_name": "Python 3",
   "language": "python",
   "name": "python3"
  },
  "language_info": {
   "codemirror_mode": {
    "name": "ipython",
    "version": 3
   },
   "file_extension": ".py",
   "mimetype": "text/x-python",
   "name": "python",
   "nbconvert_exporter": "python",
   "pygments_lexer": "ipython3",
   "version": "3.8.3"
  }
 },
 "nbformat": 4,
 "nbformat_minor": 4
}
